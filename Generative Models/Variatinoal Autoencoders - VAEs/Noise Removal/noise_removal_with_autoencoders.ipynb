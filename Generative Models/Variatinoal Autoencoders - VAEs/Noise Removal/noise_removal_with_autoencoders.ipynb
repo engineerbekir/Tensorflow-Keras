{
  "nbformat": 4,
  "nbformat_minor": 0,
  "metadata": {
    "colab": {
      "provenance": []
    },
    "kernelspec": {
      "name": "python3",
      "display_name": "Python 3"
    },
    "language_info": {
      "name": "python"
    },
    "gpuClass": "standard"
  },
  "cells": [
    {
      "cell_type": "markdown",
      "source": [
        "# Noise Removal With Autoencoders."
      ],
      "metadata": {
        "id": "C6OlwFaIRSQy"
      }
    },
    {
      "cell_type": "markdown",
      "source": [
        "## Import libraries"
      ],
      "metadata": {
        "id": "yczMnmYQRMVM"
      }
    },
    {
      "cell_type": "code",
      "execution_count": 3,
      "metadata": {
        "id": "gF7q0wdkQzSJ"
      },
      "outputs": [],
      "source": [
        "from keras.layers import Input, Dense, Conv2D, MaxPooling2D, UpSampling2D\n",
        "from keras.models import Model\n",
        "from keras.callbacks import TensorBoard\n",
        "from keras.datasets import mnist\n",
        "import numpy as np\n",
        "from keras import backend as K\n",
        "import matplotlib.pyplot as plt"
      ]
    },
    {
      "cell_type": "markdown",
      "source": [
        "## Dataset creation and separation\n",
        "\n",
        "---\n",
        "\n"
      ],
      "metadata": {
        "id": "mzb2B-Q1Z8J0"
      }
    },
    {
      "cell_type": "code",
      "source": [
        "(x_train, _), (x_test, _) = mnist.load_data()"
      ],
      "metadata": {
        "id": "WnrHuyyhaCCr"
      },
      "execution_count": 5,
      "outputs": []
    },
    {
      "cell_type": "code",
      "source": [
        "x_train = x_train.astype('float32') / 255\n",
        "x_test = x_test.astype('float32') / 255\n",
        "\n",
        "x_train = np.reshape(x_train, (len(x_train), 28, 28, 1))\n",
        "x_test = np.reshape(x_test, (len(x_test), 28, 28, 1))"
      ],
      "metadata": {
        "id": "4cmtd3gwazCC"
      },
      "execution_count": 6,
      "outputs": []
    },
    {
      "cell_type": "code",
      "source": [
        "print('Egitim', x_train.shape)\n",
        "print('Test', x_test.shape)\n"
      ],
      "metadata": {
        "id": "tCJ6CEUic0xY",
        "colab": {
          "base_uri": "https://localhost:8080/"
        },
        "outputId": "749fd49c-5b26-4c6e-fad1-b0915f641121"
      },
      "execution_count": 7,
      "outputs": [
        {
          "output_type": "stream",
          "name": "stdout",
          "text": [
            "Egitim (60000, 28, 28, 1)\n",
            "Test (10000, 28, 28, 1)\n"
          ]
        }
      ]
    },
    {
      "cell_type": "markdown",
      "source": [
        "## Adding noise to data"
      ],
      "metadata": {
        "id": "cl7PxsWLdbiQ"
      }
    },
    {
      "cell_type": "code",
      "source": [
        "noise_factor = 0.5\n",
        "\n",
        "x_train_noisy = x_train + noise_factor * np.random.normal(loc = 0.0, scale = 1.0, size = x_train.shape)\n",
        "x_test_noisy = x_test + noise_factor * np.random.normal(loc = 0.0, scale = 1.0, size = x_test.shape)\n",
        "\n",
        "x_train_noisy =  np.clip(x_train_noisy, 0. , 1.)\n",
        "x_test_noisy =  np.clip(x_test_noisy, 0. , 1.)"
      ],
      "metadata": {
        "id": "pCAaoQWsdgjO"
      },
      "execution_count": 8,
      "outputs": []
    },
    {
      "cell_type": "markdown",
      "source": [
        "## Visualizing noisy data"
      ],
      "metadata": {
        "id": "CgbK4r6Af3dU"
      }
    },
    {
      "cell_type": "code",
      "source": [
        "%matplotlib inline \n",
        "\n",
        "n = 10\n",
        "\n",
        "plt.figure(figsize = (25, 4))\n",
        "\n",
        "for i in range(n):\n",
        "  ax= plt.subplot(2 , n, i+1)\n",
        "  plt.imshow(x_test_noisy[i].reshape(28,28))\n",
        "  plt.gray()\n",
        "  ax.get_xaxis().set_visible(False) # does not print x and y axis values ​​when called false. The image is seen as a picture.Not like graphics\n",
        "  ax.get_yaxis().set_visible(False)\n",
        "\n",
        "plt.show()\n",
        "print('Noisy Original Images')"
      ],
      "metadata": {
        "id": "ZP4KDmIaf4xb",
        "colab": {
          "base_uri": "https://localhost:8080/",
          "height": 138
        },
        "outputId": "b268b3a2-55eb-4465-d998-4e6abdf46bc4"
      },
      "execution_count": 11,
      "outputs": [
        {
          "output_type": "display_data",
          "data": {
            "text/plain": [
              "<Figure size 1800x288 with 10 Axes>"
            ],
            "image/png": "[encoded data removed]"
          },
          "metadata": {
            "needs_background": "light"
          }
        },
        {
          "output_type": "stream",
          "name": "stdout",
          "text": [
            "Noisy Original Images\n"
          ]
        }
      ]
    },
    {
      "cell_type": "markdown",
      "source": [
        "![](https://miro.medium.com/max/605/1*stpRRU3tUaOtTjRqh24v0w.png)"
      ],
      "metadata": {
        "id": "SyVPInAUzhxZ"
      }
    },
    {
      "cell_type": "markdown",
      "source": [
        "## ENCODE Model (encoder part)"
      ],
      "metadata": {
        "id": "yQ8QGadgifug"
      }
    },
    {
      "cell_type": "code",
      "source": [
        "input_img = Input(shape = (28, 28 ,1))\n",
        "\n",
        "x = Conv2D(32, (3,3), activation = 'relu', padding = 'same', )(input_img) \n",
        "\n",
        "x =  MaxPooling2D((2,2), padding = 'same')(x) \n",
        "\n",
        "x = Conv2D(32, (3,3), activation = 'relu', padding = 'same', )(x) \n",
        "\n",
        "encoded = MaxPooling2D((2,2), padding = 'same')(x)\n",
        "\n",
        "# (7, 7, 32) this result is obtained"
      ],
      "metadata": {
        "id": "U2iads5UihkP"
      },
      "execution_count": 12,
      "outputs": []
    },
    {
      "cell_type": "markdown",
      "source": [
        "## DECODE Model (decoder part)"
      ],
      "metadata": {
        "id": "em-wLCeHHtnm"
      }
    },
    {
      "cell_type": "code",
      "source": [
        "x = Conv2D(32, (3,3), activation = 'relu', padding = 'same' ) (encoded)\n",
        "\n",
        "x  = UpSampling2D((2,2))(x) # performs the enlargement operation. Creates an effect between pixels. Instead, \"deconvolution\" can also be applied.\n",
        "\n",
        "x = Conv2D(32, (3,3), activation = 'relu', padding = 'same') (x)\n",
        "\n",
        "x  = UpSampling2D((2,2), )(x)\n",
        "\n",
        "decoded = Conv2D(1, (3,3), activation = 'sigmoid', padding = 'same')(x)\n"
      ],
      "metadata": {
        "id": "GptKFt2KHxC8"
      },
      "execution_count": 13,
      "outputs": []
    },
    {
      "cell_type": "markdown",
      "source": [
        "## Compiling and training the model"
      ],
      "metadata": {
        "id": "lj4eVwkhLKDp"
      }
    },
    {
      "cell_type": "code",
      "source": [
        "autoencoder = Model(input_img, decoded)\n",
        "autoencoder.compile(optimizer='adadelta', loss='binary_crossentropy')"
      ],
      "metadata": {
        "id": "lsFyy6DeLRAL"
      },
      "execution_count": 15,
      "outputs": []
    },
    {
      "cell_type": "code",
      "source": [
        "autoencoder.fit(x_train_noisy, x_train,\n",
        "                epochs = 50, # better results can be obtained if we choose 100.\n",
        "                batch_size = 128,\n",
        "                shuffle = True,\n",
        "                validation_data = (x_test_noisy, x_test),\n",
        "                callbacks=[TensorBoard(log_dir='/tmp/tb', histogram_freq=0, write_graph=False)])\n",
        "\n",
        "decoded_imgs = autoencoder.predict(x_test) "
      ],
      "metadata": {
        "id": "Y1IkrzBFMNBC",
        "colab": {
          "base_uri": "https://localhost:8080/"
        },
        "outputId": "6115f70e-a18d-4bf5-bba1-ab8f5a728877"
      },
      "execution_count": 20,
      "outputs": [
        {
          "output_type": "stream",
          "name": "stdout",
          "text": [
            "Epoch 1/50\n",
            "469/469 [==============================] - 4s 8ms/step - loss: 0.2365 - val_loss: 0.2316\n",
            "Epoch 2/50\n",
            "469/469 [==============================] - 3s 7ms/step - loss: 0.2282 - val_loss: 0.2246\n",
            "Epoch 3/50\n",
            "469/469 [==============================] - 4s 8ms/step - loss: 0.2224 - val_loss: 0.2195\n",
            "Epoch 4/50\n",
            "469/469 [==============================] - 3s 7ms/step - loss: 0.2179 - val_loss: 0.2154\n",
            "Epoch 5/50\n",
            "469/469 [==============================] - 3s 7ms/step - loss: 0.2141 - val_loss: 0.2118\n",
            "Epoch 6/50\n",
            "469/469 [==============================] - 4s 9ms/step - loss: 0.2108 - val_loss: 0.2086\n",
            "Epoch 7/50\n",
            "469/469 [==============================] - 3s 7ms/step - loss: 0.2077 - val_loss: 0.2056\n",
            "Epoch 8/50\n",
            "469/469 [==============================] - 3s 7ms/step - loss: 0.2048 - val_loss: 0.2027\n",
            "Epoch 9/50\n",
            "469/469 [==============================] - 4s 8ms/step - loss: 0.2020 - val_loss: 0.1999\n",
            "Epoch 10/50\n",
            "469/469 [==============================] - 4s 8ms/step - loss: 0.1992 - val_loss: 0.1971\n",
            "Epoch 11/50\n",
            "469/469 [==============================] - 3s 7ms/step - loss: 0.1965 - val_loss: 0.1944\n",
            "Epoch 12/50\n",
            "469/469 [==============================] - 3s 7ms/step - loss: 0.1940 - val_loss: 0.1919\n",
            "Epoch 13/50\n",
            "469/469 [==============================] - 4s 9ms/step - loss: 0.1915 - val_loss: 0.1895\n",
            "Epoch 14/50\n",
            "469/469 [==============================] - 3s 7ms/step - loss: 0.1892 - val_loss: 0.1872\n",
            "Epoch 15/50\n",
            "469/469 [==============================] - 4s 8ms/step - loss: 0.1870 - val_loss: 0.1850\n",
            "Epoch 16/50\n",
            "469/469 [==============================] - 4s 9ms/step - loss: 0.1849 - val_loss: 0.1830\n",
            "Epoch 17/50\n",
            "469/469 [==============================] - 3s 7ms/step - loss: 0.1829 - val_loss: 0.1810\n",
            "Epoch 18/50\n",
            "469/469 [==============================] - 3s 7ms/step - loss: 0.1809 - val_loss: 0.1790\n",
            "Epoch 19/50\n",
            "469/469 [==============================] - 3s 7ms/step - loss: 0.1791 - val_loss: 0.1773\n",
            "Epoch 20/50\n",
            "469/469 [==============================] - 4s 9ms/step - loss: 0.1774 - val_loss: 0.1756\n",
            "Epoch 21/50\n",
            "469/469 [==============================] - 3s 7ms/step - loss: 0.1759 - val_loss: 0.1741\n",
            "Epoch 22/50\n",
            "469/469 [==============================] - 3s 7ms/step - loss: 0.1744 - val_loss: 0.1727\n",
            "Epoch 23/50\n",
            "469/469 [==============================] - 4s 8ms/step - loss: 0.1731 - val_loss: 0.1714\n",
            "Epoch 24/50\n",
            "469/469 [==============================] - 4s 8ms/step - loss: 0.1719 - val_loss: 0.1702\n",
            "Epoch 25/50\n",
            "469/469 [==============================] - 3s 7ms/step - loss: 0.1707 - val_loss: 0.1691\n",
            "Epoch 26/50\n",
            "469/469 [==============================] - 3s 7ms/step - loss: 0.1696 - val_loss: 0.1680\n",
            "Epoch 27/50\n",
            "469/469 [==============================] - 4s 9ms/step - loss: 0.1686 - val_loss: 0.1670\n",
            "Epoch 28/50\n",
            "469/469 [==============================] - 3s 7ms/step - loss: 0.1676 - val_loss: 0.1661\n",
            "Epoch 29/50\n",
            "469/469 [==============================] - 3s 7ms/step - loss: 0.1667 - val_loss: 0.1652\n",
            "Epoch 30/50\n",
            "469/469 [==============================] - 4s 9ms/step - loss: 0.1659 - val_loss: 0.1644\n",
            "Epoch 31/50\n",
            "469/469 [==============================] - 3s 7ms/step - loss: 0.1651 - val_loss: 0.1636\n",
            "Epoch 32/50\n",
            "469/469 [==============================] - 3s 7ms/step - loss: 0.1643 - val_loss: 0.1628\n",
            "Epoch 33/50\n",
            "469/469 [==============================] - 3s 7ms/step - loss: 0.1636 - val_loss: 0.1621\n",
            "Epoch 34/50\n",
            "469/469 [==============================] - 4s 8ms/step - loss: 0.1628 - val_loss: 0.1614\n",
            "Epoch 35/50\n",
            "469/469 [==============================] - 3s 7ms/step - loss: 0.1621 - val_loss: 0.1607\n",
            "Epoch 36/50\n",
            "469/469 [==============================] - 3s 7ms/step - loss: 0.1615 - val_loss: 0.1600\n",
            "Epoch 37/50\n",
            "469/469 [==============================] - 4s 8ms/step - loss: 0.1608 - val_loss: 0.1594\n",
            "Epoch 38/50\n",
            "469/469 [==============================] - 3s 7ms/step - loss: 0.1602 - val_loss: 0.1588\n",
            "Epoch 39/50\n",
            "469/469 [==============================] - 3s 7ms/step - loss: 0.1596 - val_loss: 0.1582\n",
            "Epoch 40/50\n",
            "469/469 [==============================] - 3s 7ms/step - loss: 0.1590 - val_loss: 0.1576\n",
            "Epoch 41/50\n",
            "469/469 [==============================] - 4s 8ms/step - loss: 0.1584 - val_loss: 0.1570\n",
            "Epoch 42/50\n",
            "469/469 [==============================] - 3s 7ms/step - loss: 0.1579 - val_loss: 0.1564\n",
            "Epoch 43/50\n",
            "469/469 [==============================] - 3s 7ms/step - loss: 0.1573 - val_loss: 0.1559\n",
            "Epoch 44/50\n",
            "469/469 [==============================] - 4s 9ms/step - loss: 0.1568 - val_loss: 0.1554\n",
            "Epoch 45/50\n",
            "469/469 [==============================] - 3s 7ms/step - loss: 0.1562 - val_loss: 0.1548\n",
            "Epoch 46/50\n",
            "469/469 [==============================] - 3s 7ms/step - loss: 0.1557 - val_loss: 0.1543\n",
            "Epoch 47/50\n",
            "469/469 [==============================] - 3s 7ms/step - loss: 0.1552 - val_loss: 0.1538\n",
            "Epoch 48/50\n",
            "469/469 [==============================] - 4s 8ms/step - loss: 0.1547 - val_loss: 0.1533\n",
            "Epoch 49/50\n",
            "469/469 [==============================] - 3s 7ms/step - loss: 0.1542 - val_loss: 0.1528\n",
            "Epoch 50/50\n",
            "469/469 [==============================] - 3s 7ms/step - loss: 0.1537 - val_loss: 0.1523\n",
            "313/313 [==============================] - 1s 2ms/step\n"
          ]
        }
      ]
    },
    {
      "cell_type": "markdown",
      "source": [
        "## Visualization of Results"
      ],
      "metadata": {
        "id": "aRmOxhRGO9-n"
      }
    },
    {
      "cell_type": "code",
      "source": [
        "%matplotlib inline \n",
        "\n",
        "n = 10\n",
        "\n",
        "plt.figure(figsize = (25, 4))\n",
        "\n",
        "for i in range(n):\n",
        "  ax= plt.subplot(2 , n, i+1)\n",
        "  plt.imshow(decoded_imgs[i].reshape(28,28))\n",
        "  plt.gray()\n",
        "  ax.get_xaxis().set_visible(False) \n",
        "  ax.get_yaxis().set_visible(False)\n",
        "\n",
        "plt.show()\n",
        "print('DENOISED - Noise suppressed image')"
      ],
      "metadata": {
        "id": "KBrsy0m5PAmu",
        "colab": {
          "base_uri": "https://localhost:8080/",
          "height": 138
        },
        "outputId": "9f94db0f-7b86-4d59-f847-d72e343d934b"
      },
      "execution_count": 21,
      "outputs": [
        {
          "output_type": "display_data",
          "data": {
            "text/plain": [
              "<Figure size 1800x288 with 10 Axes>"
            ],
            "image/png": "[encoded data removed]"
          },
          "metadata": {
            "needs_background": "light"
          }
        },
        {
          "output_type": "stream",
          "name": "stdout",
          "text": [
            "DENOISED - Noise suppressed image\n"
          ]
        }
      ]
    }
  ]
}