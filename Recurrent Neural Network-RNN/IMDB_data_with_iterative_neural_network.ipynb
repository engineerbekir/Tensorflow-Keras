{
  "nbformat": 4,
  "nbformat_minor": 0,
  "metadata": {
    "colab": {
      "provenance": [],
      "authorship_tag": "ABX9TyPbPPx6kBhW/9pL2SSnyZ7y"
    },
    "kernelspec": {
      "name": "python3",
      "display_name": "Python 3"
    },
    "language_info": {
      "name": "python"
    },
    "gpuClass": "standard"
  },
  "cells": [
    {
      "cell_type": "markdown",
      "source": [
        "# Recurrent Neural Network - RNN"
      ],
      "metadata": {
        "id": "WeK6Tn-LewTO"
      }
    },
    {
      "cell_type": "markdown",
      "source": [
        "## Creating Recurrent Neural Network"
      ],
      "metadata": {
        "id": "dh1UanDJ-4WX"
      }
    },
    {
      "cell_type": "code",
      "execution_count": null,
      "metadata": {
        "id": "1OfK_En6-zg7"
      },
      "outputs": [],
      "source": [
        "from keras.layers import SimpleRNN\n",
        "import numpy as np"
      ]
    },
    {
      "cell_type": "code",
      "source": [
        "from keras.models import Sequential\n",
        "from keras.layers import Embedding"
      ],
      "metadata": {
        "id": "dzC02WRT_koI"
      },
      "execution_count": null,
      "outputs": []
    },
    {
      "cell_type": "markdown",
      "source": [
        "### An RNN layer"
      ],
      "metadata": {
        "id": "R6KytoX9EYli"
      }
    },
    {
      "cell_type": "code",
      "source": [
        "model = Sequential()\n",
        "model.add(Embedding(1000, 32))\n",
        "model.add(SimpleRNN(32))\n",
        "model.summary()"
      ],
      "metadata": {
        "id": "QWivs6TKEi0K",
        "colab": {
          "base_uri": "https://localhost:8080/"
        },
        "outputId": "63e0ce7f-b70d-4ee8-8b61-f0a9c08a2932"
      },
      "execution_count": null,
      "outputs": [
        {
          "output_type": "stream",
          "name": "stdout",
          "text": [
            "Model: \"sequential\"\n",
            "_________________________________________________________________\n",
            " Layer (type)                Output Shape              Param #   \n",
            "=================================================================\n",
            " embedding (Embedding)       (None, None, 32)          32000     \n",
            "                                                                 \n",
            " simple_rnn (SimpleRNN)      (None, 32)                2080      \n",
            "                                                                 \n",
            "=================================================================\n",
            "Total params: 34,080\n",
            "Trainable params: 34,080\n",
            "Non-trainable params: 0\n",
            "_________________________________________________________________\n"
          ]
        }
      ]
    },
    {
      "cell_type": "markdown",
      "source": [
        "### Dimensioned RNN layer"
      ],
      "metadata": {
        "id": "C7ABcTxJd9vX"
      }
    },
    {
      "cell_type": "code",
      "source": [
        "model = Sequential()\n",
        "model.add(Embedding(1000, 32))\n",
        "model.add(SimpleRNN(32, return_sequences=True))\n",
        "model.summary()"
      ],
      "metadata": {
        "id": "Gn9Y04VuFTMr",
        "colab": {
          "base_uri": "https://localhost:8080/"
        },
        "outputId": "b01e78cf-f6ee-4efb-9cd8-f1331ed025b2"
      },
      "execution_count": null,
      "outputs": [
        {
          "output_type": "stream",
          "name": "stdout",
          "text": [
            "Model: \"sequential_1\"\n",
            "_________________________________________________________________\n",
            " Layer (type)                Output Shape              Param #   \n",
            "=================================================================\n",
            " embedding_1 (Embedding)     (None, None, 32)          32000     \n",
            "                                                                 \n",
            " simple_rnn_1 (SimpleRNN)    (None, None, 32)          2080      \n",
            "                                                                 \n",
            "=================================================================\n",
            "Total params: 34,080\n",
            "Trainable params: 34,080\n",
            "Non-trainable params: 0\n",
            "_________________________________________________________________\n"
          ]
        }
      ]
    },
    {
      "cell_type": "markdown",
      "source": [
        "### Consecutive RNN layers"
      ],
      "metadata": {
        "id": "_p3fQJOeePXF"
      }
    },
    {
      "cell_type": "code",
      "source": [
        "model = Sequential()\n",
        "model.add(Embedding(1000, 32))\n",
        "model.add(SimpleRNN(32, return_sequences=True))\n",
        "model.add(SimpleRNN(32, return_sequences=True))\n",
        "model.add(SimpleRNN(32, return_sequences=True))\n",
        "model.add(SimpleRNN(32))\n",
        "model.summary()"
      ],
      "metadata": {
        "id": "_k-J34tjHtTR",
        "colab": {
          "base_uri": "https://localhost:8080/"
        },
        "outputId": "58ae1b0d-c876-449d-ff38-70e7bc99d1f7"
      },
      "execution_count": null,
      "outputs": [
        {
          "output_type": "stream",
          "name": "stdout",
          "text": [
            "Model: \"sequential_2\"\n",
            "_________________________________________________________________\n",
            " Layer (type)                Output Shape              Param #   \n",
            "=================================================================\n",
            " embedding_2 (Embedding)     (None, None, 32)          32000     \n",
            "                                                                 \n",
            " simple_rnn_2 (SimpleRNN)    (None, None, 32)          2080      \n",
            "                                                                 \n",
            " simple_rnn_3 (SimpleRNN)    (None, None, 32)          2080      \n",
            "                                                                 \n",
            " simple_rnn_4 (SimpleRNN)    (None, None, 32)          2080      \n",
            "                                                                 \n",
            " simple_rnn_5 (SimpleRNN)    (None, 32)                2080      \n",
            "                                                                 \n",
            "=================================================================\n",
            "Total params: 40,320\n",
            "Trainable params: 40,320\n",
            "Non-trainable params: 0\n",
            "_________________________________________________________________\n"
          ]
        }
      ]
    },
    {
      "cell_type": "markdown",
      "source": [
        "## Preparing the IMDB Dataset\n",
        "* IMDB: Internet Movie Database "
      ],
      "metadata": {
        "id": "hTSmiLv1ec21"
      }
    },
    {
      "cell_type": "code",
      "source": [
        "from keras.datasets import imdb\n",
        "from keras.preprocessing import sequence\n",
        "from keras.utils import pad_sequences"
      ],
      "metadata": {
        "id": "EPDgkKXefb4t"
      },
      "execution_count": null,
      "outputs": []
    },
    {
      "cell_type": "code",
      "source": [
        "num_features = 1000\n",
        "maxlen = 500\n",
        "batch_size = 32"
      ],
      "metadata": {
        "id": "uW2_8oYYfib8"
      },
      "execution_count": null,
      "outputs": []
    },
    {
      "cell_type": "code",
      "source": [
        "# load data\n",
        "print('Load data..')\n",
        "(input_train, y_train), (input_test, y_test) = imdb.load_data(num_words = num_features)\n",
        "\n",
        "\n",
        "\n",
        "print(len(input_train), 'Education sequence', input_train.shape)\n",
        "print(len(input_test), 'Test sequence', input_test.shape)"
      ],
      "metadata": {
        "colab": {
          "base_uri": "https://localhost:8080/"
        },
        "id": "xU7ckDO7foOM",
        "outputId": "b31c8a5d-fcd3-48f9-ffca-4a9264734ca3"
      },
      "execution_count": null,
      "outputs": [
        {
          "output_type": "stream",
          "name": "stdout",
          "text": [
            "Load data..\n",
            "Downloading data from https://storage.googleapis.com/tensorflow/tf-keras-datasets/imdb.npz\n",
            "17464789/17464789 [==============================] - 0s 0us/step\n",
            "25000 Education sequence (25000,)\n",
            "25000 Test sequence (25000,)\n"
          ]
        }
      ]
    },
    {
      "cell_type": "code",
      "source": [
        "print('Pad sequnce (sample x train)')\n",
        "\n",
        "input_train = pad_sequences(input_train, maxlen=maxlen)\n",
        "input_test =  pad_sequences(input_test, maxlen=maxlen)\n",
        "\n",
        "\n",
        "print(len(input_train), 'Education sequence', input_train.shape)\n",
        "print(len(input_test), 'Test sequence', input_test.shape)"
      ],
      "metadata": {
        "colab": {
          "base_uri": "https://localhost:8080/"
        },
        "id": "Cexf1CPRgFR6",
        "outputId": "1a890a19-3d0f-4bd2-d7d2-9c2882df1125"
      },
      "execution_count": null,
      "outputs": [
        {
          "output_type": "stream",
          "name": "stdout",
          "text": [
            "Pad sequnce (sample x train)\n",
            "25000 Education sequence (25000, 500)\n",
            "25000 Test sequence (25000, 500)\n"
          ]
        }
      ]
    },
    {
      "cell_type": "markdown",
      "source": [
        "### Training the EMBEDDING and SimpleRNN Layers"
      ],
      "metadata": {
        "id": "LWHw5xosg-iU"
      }
    },
    {
      "cell_type": "code",
      "source": [
        "from keras.layers import Dense\n",
        "from keras import layers"
      ],
      "metadata": {
        "id": "O1J6MhVRhGPj"
      },
      "execution_count": null,
      "outputs": []
    },
    {
      "cell_type": "markdown",
      "source": [
        "### Modeling with Simple RNN"
      ],
      "metadata": {
        "id": "IRbgvGEvhT9T"
      }
    },
    {
      "cell_type": "code",
      "source": [
        "model = Sequential()\n",
        "model.add(Embedding(num_features, 32))\n",
        "model.add(SimpleRNN(32))\n",
        "model.add(Dense(1, activation='sigmoid'))\n",
        "model.summary()"
      ],
      "metadata": {
        "colab": {
          "base_uri": "https://localhost:8080/"
        },
        "id": "rlVTl-XUhV7b",
        "outputId": "d1c686cf-9d90-4ffb-e5e6-1b79d7cb6a8b"
      },
      "execution_count": null,
      "outputs": [
        {
          "output_type": "stream",
          "name": "stdout",
          "text": [
            "Model: \"sequential_3\"\n",
            "_________________________________________________________________\n",
            " Layer (type)                Output Shape              Param #   \n",
            "=================================================================\n",
            " embedding_3 (Embedding)     (None, None, 32)          32000     \n",
            "                                                                 \n",
            " simple_rnn_6 (SimpleRNN)    (None, 32)                2080      \n",
            "                                                                 \n",
            " dense (Dense)               (None, 1)                 33        \n",
            "                                                                 \n",
            "=================================================================\n",
            "Total params: 34,113\n",
            "Trainable params: 34,113\n",
            "Non-trainable params: 0\n",
            "_________________________________________________________________\n"
          ]
        }
      ]
    },
    {
      "cell_type": "markdown",
      "source": [
        "### Modeling with Simple LSTM"
      ],
      "metadata": {
        "id": "mwoHWaK8hfpc"
      }
    },
    {
      "cell_type": "code",
      "source": [
        "model = Sequential()\n",
        "model.add(layers.Embedding(num_features, 32))\n",
        "model.add(layers.Bidirectional(layers.LSTM(32)))\n",
        "model.add(Dense(1, activation='sigmoid'))\n",
        "model.summary()"
      ],
      "metadata": {
        "colab": {
          "base_uri": "https://localhost:8080/"
        },
        "id": "21-U7JVUhi6L",
        "outputId": "9044499c-4e73-4daa-d1b9-a27ac0268c5f"
      },
      "execution_count": null,
      "outputs": [
        {
          "output_type": "stream",
          "name": "stdout",
          "text": [
            "Model: \"sequential_4\"\n",
            "_________________________________________________________________\n",
            " Layer (type)                Output Shape              Param #   \n",
            "=================================================================\n",
            " embedding_4 (Embedding)     (None, None, 32)          32000     \n",
            "                                                                 \n",
            " bidirectional (Bidirectiona  (None, 64)               16640     \n",
            " l)                                                              \n",
            "                                                                 \n",
            " dense_1 (Dense)             (None, 1)                 65        \n",
            "                                                                 \n",
            "=================================================================\n",
            "Total params: 48,705\n",
            "Trainable params: 48,705\n",
            "Non-trainable params: 0\n",
            "_________________________________________________________________\n"
          ]
        }
      ]
    },
    {
      "cell_type": "markdown",
      "source": [
        "### Compiling the model - RNN"
      ],
      "metadata": {
        "id": "NA1RQNeoh077"
      }
    },
    {
      "cell_type": "code",
      "source": [
        "model.compile(optimizer='rmsprop', loss='binary_crossentropy', metrics=['acc'])\n",
        "\n",
        "history = model.fit(input_train, y_train,\n",
        "                    epochs = 10,\n",
        "                    batch_size = 128,\n",
        "                    validation_split=0.2)"
      ],
      "metadata": {
        "colab": {
          "base_uri": "https://localhost:8080/"
        },
        "id": "Kb-NvHV-h5gH",
        "outputId": "be23f2ad-7715-40a6-be53-1a2a8e9dd0d3"
      },
      "execution_count": null,
      "outputs": [
        {
          "output_type": "stream",
          "name": "stdout",
          "text": [
            "Epoch 1/10\n",
            "157/157 [==============================] - 22s 62ms/step - loss: 0.6382 - acc: 0.6230 - val_loss: 0.5093 - val_acc: 0.7848\n",
            "Epoch 2/10\n",
            "157/157 [==============================] - 6s 41ms/step - loss: 0.4670 - acc: 0.7939 - val_loss: 0.4221 - val_acc: 0.8174\n",
            "Epoch 3/10\n",
            "157/157 [==============================] - 5s 33ms/step - loss: 0.3912 - acc: 0.8331 - val_loss: 0.4046 - val_acc: 0.8332\n",
            "Epoch 4/10\n",
            "157/157 [==============================] - 5s 32ms/step - loss: 0.3600 - acc: 0.8478 - val_loss: 0.4052 - val_acc: 0.8246\n",
            "Epoch 5/10\n",
            "157/157 [==============================] - 6s 35ms/step - loss: 0.3430 - acc: 0.8571 - val_loss: 0.3764 - val_acc: 0.8362\n",
            "Epoch 6/10\n",
            "157/157 [==============================] - 5s 33ms/step - loss: 0.3342 - acc: 0.8620 - val_loss: 0.4359 - val_acc: 0.7978\n",
            "Epoch 7/10\n",
            "157/157 [==============================] - 5s 34ms/step - loss: 0.3243 - acc: 0.8641 - val_loss: 0.3777 - val_acc: 0.8500\n",
            "Epoch 8/10\n",
            "157/157 [==============================] - 5s 32ms/step - loss: 0.3194 - acc: 0.8689 - val_loss: 0.4399 - val_acc: 0.8262\n",
            "Epoch 9/10\n",
            "157/157 [==============================] - 6s 38ms/step - loss: 0.3130 - acc: 0.8730 - val_loss: 0.3924 - val_acc: 0.8408\n",
            "Epoch 10/10\n",
            "157/157 [==============================] - 5s 32ms/step - loss: 0.3115 - acc: 0.8741 - val_loss: 0.3598 - val_acc: 0.8468\n"
          ]
        }
      ]
    },
    {
      "cell_type": "markdown",
      "source": [
        "### Compiling the model - LSTM"
      ],
      "metadata": {
        "id": "OIpwnD7-h-gz"
      }
    },
    {
      "cell_type": "code",
      "source": [
        "model.compile(optimizer='rmsprop', loss='binary_crossentropy', metrics=['acc'])\n",
        "\n",
        "history = model.fit(input_train, y_train,\n",
        "                    epochs = 10,\n",
        "                    batch_size = 128,\n",
        "                    validation_split=0.2)"
      ],
      "metadata": {
        "colab": {
          "base_uri": "https://localhost:8080/"
        },
        "id": "LfUelQtNiBR0",
        "outputId": "483081c8-4341-4483-8421-a165cc8be3dc"
      },
      "execution_count": null,
      "outputs": [
        {
          "output_type": "stream",
          "name": "stdout",
          "text": [
            "Epoch 1/10\n",
            "157/157 [==============================] - 13s 57ms/step - loss: 0.3049 - acc: 0.8751 - val_loss: 0.3452 - val_acc: 0.8532\n",
            "Epoch 2/10\n",
            "157/157 [==============================] - 5s 33ms/step - loss: 0.2994 - acc: 0.8781 - val_loss: 0.3402 - val_acc: 0.8582\n",
            "Epoch 3/10\n",
            "157/157 [==============================] - 5s 32ms/step - loss: 0.2929 - acc: 0.8796 - val_loss: 0.3428 - val_acc: 0.8532\n",
            "Epoch 4/10\n",
            "157/157 [==============================] - 6s 36ms/step - loss: 0.2883 - acc: 0.8821 - val_loss: 0.3448 - val_acc: 0.8570\n",
            "Epoch 5/10\n",
            "157/157 [==============================] - 5s 31ms/step - loss: 0.2843 - acc: 0.8839 - val_loss: 0.3417 - val_acc: 0.8538\n",
            "Epoch 6/10\n",
            "157/157 [==============================] - 5s 34ms/step - loss: 0.2836 - acc: 0.8839 - val_loss: 0.3623 - val_acc: 0.8504\n",
            "Epoch 7/10\n",
            "157/157 [==============================] - 5s 32ms/step - loss: 0.2786 - acc: 0.8882 - val_loss: 0.3543 - val_acc: 0.8470\n",
            "Epoch 8/10\n",
            "157/157 [==============================] - 5s 35ms/step - loss: 0.2729 - acc: 0.8893 - val_loss: 0.3863 - val_acc: 0.8304\n",
            "Epoch 9/10\n",
            "157/157 [==============================] - 5s 33ms/step - loss: 0.2700 - acc: 0.8891 - val_loss: 0.3391 - val_acc: 0.8568\n",
            "Epoch 10/10\n",
            "157/157 [==============================] - 5s 32ms/step - loss: 0.2648 - acc: 0.8905 - val_loss: 0.5369 - val_acc: 0.8308\n"
          ]
        }
      ]
    },
    {
      "cell_type": "markdown",
      "source": [
        "### Plotting Results"
      ],
      "metadata": {
        "id": "LLsv1puIioIr"
      }
    },
    {
      "cell_type": "code",
      "source": [
        "import matplotlib.pyplot as plt"
      ],
      "metadata": {
        "id": "t9a_1Mcoip6y"
      },
      "execution_count": null,
      "outputs": []
    },
    {
      "cell_type": "code",
      "source": [
        "acc = history.history['acc']\n",
        "val_acc = history.history['val_acc']\n",
        "loss = history.history['loss']\n",
        "val_loss = history.history['val_loss']"
      ],
      "metadata": {
        "id": "64kr0De6ivwD"
      },
      "execution_count": null,
      "outputs": []
    },
    {
      "cell_type": "code",
      "source": [
        "epochs = range(1, len(acc) + 1)"
      ],
      "metadata": {
        "id": "WlZg1JHliyRK"
      },
      "execution_count": null,
      "outputs": []
    },
    {
      "cell_type": "code",
      "source": [
        "plt.plot(epochs, acc, 'm*-', label= 'Training Achievement')\n",
        "plt.plot(epochs, val_acc, 'g*-', label= 'Verification / Validation Achievement')\n",
        "plt.title('Achievement for Training and Validation')\n",
        "plt. legend()\n",
        "\n",
        "plt.figure()\n",
        "\n",
        "plt.plot(epochs, loss, 'm*-', label= 'Loss of Education')\n",
        "plt.plot(epochs, val_loss, 'g*-', label= 'Loss of Verification / Validation')\n",
        "plt.title('Loss for Training and Validation')\n",
        "plt. legend()\n",
        "\n",
        "plt.show()"
      ],
      "metadata": {
        "colab": {
          "base_uri": "https://localhost:8080/",
          "height": 545
        },
        "id": "F7TosSD6i0Qa",
        "outputId": "fc37217d-8292-49be-e9dc-480bd0ded9a0"
      },
      "execution_count": null,
      "outputs": [
        {
          "output_type": "display_data",
          "data": {
            "text/plain": [
              "<Figure size 432x288 with 1 Axes>"
            ],
            "image/png": "[encoded data removed]"
          },
          "metadata": {
            "needs_background": "light"
          }
        },
        {
          "output_type": "display_data",
          "data": {
            "text/plain": [
              "<Figure size 432x288 with 1 Axes>"
            ],
            "image/png": "[encoded data removed]"
          },
          "metadata": {
            "needs_background": "light"
          }
        }
      ]
    },
    {
      "cell_type": "code",
      "source": [
        "print(acc, 'training achievements')"
      ],
      "metadata": {
        "colab": {
          "base_uri": "https://localhost:8080/"
        },
        "id": "KImhwz5zky-C",
        "outputId": "7cc1011a-c4ea-4015-9cb6-0b3e3183294d"
      },
      "execution_count": null,
      "outputs": [
        {
          "output_type": "stream",
          "name": "stdout",
          "text": [
            "[0.8750500082969666, 0.8780999779701233, 0.8795999884605408, 0.8821499943733215, 0.883899986743927, 0.8839499950408936, 0.8882499933242798, 0.8893499970436096, 0.8890500068664551, 0.8904500007629395] training achievements\n"
          ]
        }
      ]
    },
    {
      "cell_type": "code",
      "source": [
        "acc = history.history['acc']\n",
        "val_acc = history.history['val_acc']\n",
        "loss = history.history['loss']\n",
        "val_loss = history.history['val_loss']"
      ],
      "metadata": {
        "id": "_D-_nxqOk73h"
      },
      "execution_count": null,
      "outputs": []
    },
    {
      "cell_type": "code",
      "source": [
        "epochs = range(1, len(acc) + 1)"
      ],
      "metadata": {
        "id": "OEh2EIT7k9rJ"
      },
      "execution_count": null,
      "outputs": []
    },
    {
      "cell_type": "code",
      "source": [
        "plt.plot(epochs, acc, 'm*-', label= 'Training Achievement')\n",
        "plt.plot(epochs, val_acc, 'g*-', label= 'Verification / Validation Achievement')\n",
        "plt.title('Achievement for Training and Validation')\n",
        "plt. legend()\n",
        "\n",
        "plt.figure()\n",
        "\n",
        "plt.plot(epochs, loss, 'm*-', label= 'Loss of Education')\n",
        "plt.plot(epochs, val_loss, 'g*-', label= 'Loss of Verification / Validation')\n",
        "plt.title('Loss for Training and Validation')\n",
        "plt. legend()\n",
        "\n",
        "plt.show()"
      ],
      "metadata": {
        "colab": {
          "base_uri": "https://localhost:8080/",
          "height": 545
        },
        "id": "UD7UPhoos5zj",
        "outputId": "25bb7f53-1a6a-4bc7-f1bc-b6bc9369950a"
      },
      "execution_count": null,
      "outputs": [
        {
          "output_type": "display_data",
          "data": {
            "text/plain": [
              "<Figure size 432x288 with 1 Axes>"
            ],
            "image/png": "[encoded data removed]"
          },
          "metadata": {
            "needs_background": "light"
          }
        },
        {
          "output_type": "display_data",
          "data": {
            "text/plain": [
              "<Figure size 432x288 with 1 Axes>"
            ],
            "image/png": "[encoded data removed]"
          },
          "metadata": {
            "needs_background": "light"
          }
        }
      ]
    }
  ]
}